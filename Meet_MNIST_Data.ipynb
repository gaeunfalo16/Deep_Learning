{
  "nbformat": 4,
  "nbformat_minor": 0,
  "metadata": {
    "colab": {
      "name": "Untitled12.ipynb",
      "provenance": [],
      "authorship_tag": "ABX9TyNooRoE78WqPhvYoYZe/X8/",
      "include_colab_link": true
    },
    "kernelspec": {
      "name": "python3",
      "display_name": "Python 3"
    }
  },
  "cells": [
    {
      "cell_type": "markdown",
      "metadata": {
        "id": "view-in-github",
        "colab_type": "text"
      },
      "source": [
        "<a href=\"https://colab.research.google.com/github/gaeunfalo16/Deep_Learning/blob/master/Meet_MNIST_Data.ipynb\" target=\"_parent\"><img src=\"https://colab.research.google.com/assets/colab-badge.svg\" alt=\"Open In Colab\"/></a>"
      ]
    },
    {
      "cell_type": "code",
      "metadata": {
        "id": "cLaQg9SPrbj2",
        "colab_type": "code",
        "colab": {}
      },
      "source": [
        "import tensorflow as tf\n",
        "import tensorflow.examples.tutorials.mnist as input_data\n",
        "\n",
        "# If one_hot is true, then Y can be read as one_hot format\n",
        "mnist = input_data.read_data_sets(\"MNIST_data/\", one_hot = True)\n",
        "\n",
        "# We need to classify digits from 0 to 9\n",
        "nb_classes = 10\n",
        "\n",
        "# Image input of 28 * 28 pixels\n",
        "X = tf.placeholder(tf.float32, [None, 784])\n",
        "# Digit output\n",
        "Y = tf.placeholder(tf.float32, [None, nb_classes])\n",
        "\n",
        "W = tf.Variable(tf.random_normal([784, nb_classes]))\n",
        "b = tf.Variable(Tf.random_normal([nb_classes]))\n",
        "\n",
        "# Hypothesis created by softmax\n",
        "hypothesis = tf.nn.softmax(tf.matmul(X, W) + b)\n",
        "cost = tf.random_mean(-tf.random_sum(tf.log(hypothesis) * Y, axis = 1))\n",
        "optimizer = tf.train.GradientDescentOptimizer(learning_Rate = 0.1).minimize(cost)\n",
        "\n",
        "# Test model\n",
        "is_correct = tf.equal(tf.arg_max(hypothesis, 1), tf.arg_max(Y, 1))\n",
        "\n",
        "# Calculate accuracy\n",
        "accuracy = tf.reduce_mean(tf.cast(is_correct, tf.float32))\n",
        "\n",
        "# Parameters\n",
        "# epoch = the number of iteration of training whole data set\n",
        "training_epochs = 15\n",
        "batch_size = 100\n",
        "\n",
        "with tf.Session() as sess :\n",
        "  sess.run(tf.global_variables_initializer())\n",
        "  for epoch in range(traiing_epochs) :\n",
        "    avg_cost = 0\n",
        "    total_batch = int(mnist.train.num_examples / batch_size)\n",
        "\n",
        "    for i in range(total_batch) :\n",
        "      batch_xs, batch_ys = mnist.train.next_batch(batch_size)\n",
        "      c, _ = sess.run([cost, optimizer], feed_dict = {X: batch_xs, Y: batch_ys})\n",
        "      avg_cost += c / total_batch\n",
        "\n",
        "    print('Epoch : ', '%04d' % (epoch + 1), 'cost: ', {.9f}.format(avg_cost))\n",
        "    print(\"Accuracy : \", accuracy.eval(session = sess, feed_dict = {X: mnist.test.images, Y: mnist.test.labels}))"
      ],
      "execution_count": 0,
      "outputs": []
    }
  ]
}