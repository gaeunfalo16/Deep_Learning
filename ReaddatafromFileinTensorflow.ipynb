{
  "nbformat": 4,
  "nbformat_minor": 0,
  "metadata": {
    "colab": {
      "name": "Untitled4.ipynb",
      "provenance": [],
      "authorship_tag": "ABX9TyPDSUpO1RdcogCAUK/bOIOv",
      "include_colab_link": true
    },
    "kernelspec": {
      "name": "python3",
      "display_name": "Python 3"
    }
  },
  "cells": [
    {
      "cell_type": "markdown",
      "metadata": {
        "id": "view-in-github",
        "colab_type": "text"
      },
      "source": [
        "<a href=\"https://colab.research.google.com/github/gaeunfalo16/Deep_Learning/blob/master/ReaddatafromFileinTensorflow.ipynb\" target=\"_parent\"><img src=\"https://colab.research.google.com/assets/colab-badge.svg\" alt=\"Open In Colab\"/></a>"
      ]
    },
    {
      "cell_type": "code",
      "metadata": {
        "id": "ZnYMY6ktaFv9",
        "colab_type": "code",
        "colab": {
          "base_uri": "https://localhost:8080/",
          "height": 134
        },
        "outputId": "db911b34-eef3-48f5-c421-1e322d17efcb"
      },
      "source": [
        "import tensorflow as tf\n",
        "import numpy as np\n",
        "tf.set_random_seed(777) #for reproductibility\n",
        "# set_random_seed : 그래프 수준의 시드 설정 (그래프 수준이란,,,?))\n",
        "\n",
        "xy = np.loadtext('data-01-test-score.csv', delimiter = ',', dtype = np.float32)\n",
        "x_data = xy[:, 0:-1]\n",
        "y_data = xy[:, [-1]]\n",
        "\n",
        "#Make sure that shape and data are ok\n",
        "print(x_data.shape, x_data, len(x_data))\n",
        "print(y_data.shape, y_data)\n",
        "\n",
        "#placeholders for a tensor that will be always fed\n",
        "X = tf.placeholder(tf.float32, shape = [None, 3])\n",
        "Y = tf.placeholder(tf.float32, shape = [None, 1])\n",
        "\n",
        "W = tf.Variable(tf.random_normal([3, 1]), name = 'weight')\n",
        "b = tf.Variable(tf.random_normal([1]), name = 'bias')\n",
        "\n",
        "#Hypothesis\n",
        "hypothesis = tf.matmul(X, W) + b # matmul = matrix multiplier\n",
        "#Cost(Loss) function\n",
        "cost = tf.reduce_mean(tf.square(hypothesis - Y))\n",
        "\n",
        "#Minimize \n",
        "optimizer = tf.train.GradientDescentOptimizer(learning_rate = 1e-5)\n",
        "train = optimizer.minimize(cost)\n",
        "\n",
        "#Launch the graph in a session\n",
        "sess = tf.Session()\n",
        "#Initialize global variables in the graph\n",
        "sess.run(tf.global_variables_initializer())\n",
        "\n",
        "for step in range(2001) :\n",
        "  cost_val, hy_val, _ = ([cost, hypothesis, train], feed_dict={X: x_data, Y: y_data})\n",
        "  if step % 10 == 0 :\n",
        "    print(step, \"Cost : \", cost_val, \"\\nprediction\\n\", hy_val)\n",
        "\n",
        "#My score\n",
        "print(\"Your score will be \", sess.run(hypothesis, feed_dict = {x: [100, 70, 101]}))\n",
        "\n",
        "\n",
        "\n"
      ],
      "execution_count": 5,
      "outputs": [
        {
          "output_type": "error",
          "ename": "SyntaxError",
          "evalue": "ignored",
          "traceback": [
            "\u001b[0;36m  File \u001b[0;32m\"<ipython-input-5-e88a088a8a6e>\"\u001b[0;36m, line \u001b[0;32m36\u001b[0m\n\u001b[0;31m    cost_val, hy_val, _ = ([cost, hypothesis, train], feed_dict={X: x_data, Y: y_data})\u001b[0m\n\u001b[0m                                                               ^\u001b[0m\n\u001b[0;31mSyntaxError\u001b[0m\u001b[0;31m:\u001b[0m invalid syntax\n"
          ]
        }
      ]
    }
  ]
}